{
 "cells": [
  {
   "cell_type": "markdown",
   "id": "still-cooperation",
   "metadata": {
    "papermill": {
     "duration": 0.055605,
     "end_time": "2021-06-08T10:14:17.342290",
     "exception": false,
     "start_time": "2021-06-08T10:14:17.286685",
     "status": "completed"
    },
    "tags": []
   },
   "source": [
    "# **Bike Sharing Demand**"
   ]
  },
  {
   "cell_type": "markdown",
   "id": "closing-attribute",
   "metadata": {
    "papermill": {
     "duration": 0.052972,
     "end_time": "2021-06-08T10:14:17.449300",
     "exception": false,
     "start_time": "2021-06-08T10:14:17.396328",
     "status": "completed"
    },
    "tags": []
   },
   "source": [
    "## **Import Required Libraries**"
   ]
  },
  {
   "cell_type": "code",
   "execution_count": 1,
   "id": "later-colony",
   "metadata": {
    "execution": {
     "iopub.execute_input": "2021-06-08T10:14:17.558079Z",
     "iopub.status.busy": "2021-06-08T10:14:17.556839Z",
     "iopub.status.idle": "2021-06-08T10:14:18.997804Z",
     "shell.execute_reply": "2021-06-08T10:14:18.996869Z",
     "shell.execute_reply.started": "2021-06-08T10:10:14.957583Z"
    },
    "papermill": {
     "duration": 1.496499,
     "end_time": "2021-06-08T10:14:18.998007",
     "exception": false,
     "start_time": "2021-06-08T10:14:17.501508",
     "status": "completed"
    },
    "tags": []
   },
   "outputs": [],
   "source": [
    "# Data Visualisation and Manipulation\n",
    "import numpy as np\n",
    "import pandas as pd\n",
    "import matplotlib.pyplot as plt\n",
    "%matplotlib inline \n",
    "import seaborn as sns\n",
    "\n",
    "#import the necessary modelling algos.\n",
    "#regression\n",
    "from sklearn.ensemble import RandomForestRegressor,AdaBoostRegressor\n",
    "from sklearn.neighbors import KNeighborsRegressor\n",
    "\n",
    "#model selection\n",
    "from sklearn.model_selection import train_test_split,cross_val_score,KFold,GridSearchCV\n",
    "from sklearn.preprocessing import StandardScaler,MinMaxScaler\n",
    "\n",
    "#evaluation metrics\n",
    "from sklearn.metrics import mean_squared_log_error\n",
    "\n",
    "# Ignore  the warnings\n",
    "import warnings\n",
    "warnings.filterwarnings('ignore')"
   ]
  },
  {
   "cell_type": "markdown",
   "id": "gentle-difference",
   "metadata": {
    "papermill": {
     "duration": 0.053404,
     "end_time": "2021-06-08T10:14:19.104963",
     "exception": false,
     "start_time": "2021-06-08T10:14:19.051559",
     "status": "completed"
    },
    "tags": []
   },
   "source": [
    "## **Load the Data**"
   ]
  },
  {
   "cell_type": "code",
   "execution_count": 2,
   "id": "decimal-disclosure",
   "metadata": {
    "execution": {
     "iopub.execute_input": "2021-06-08T10:14:19.216804Z",
     "iopub.status.busy": "2021-06-08T10:14:19.216067Z",
     "iopub.status.idle": "2021-06-08T10:14:19.302461Z",
     "shell.execute_reply": "2021-06-08T10:14:19.301814Z",
     "shell.execute_reply.started": "2021-06-08T10:10:16.252285Z"
    },
    "papermill": {
     "duration": 0.145005,
     "end_time": "2021-06-08T10:14:19.302629",
     "exception": false,
     "start_time": "2021-06-08T10:14:19.157624",
     "status": "completed"
    },
    "tags": []
   },
   "outputs": [],
   "source": [
    "df_train=pd.read_csv('train.csv',parse_dates = ['datetime'])\n",
    "df_test=pd.read_csv('train.csv',parse_dates = ['datetime'])"
   ]
  },
  {
   "cell_type": "code",
   "execution_count": 3,
   "id": "ignored-navigation",
   "metadata": {
    "execution": {
     "iopub.execute_input": "2021-06-08T10:14:19.418788Z",
     "iopub.status.busy": "2021-06-08T10:14:19.418099Z",
     "iopub.status.idle": "2021-06-08T10:14:19.446611Z",
     "shell.execute_reply": "2021-06-08T10:14:19.446044Z",
     "shell.execute_reply.started": "2021-06-08T10:10:16.322522Z"
    },
    "papermill": {
     "duration": 0.092404,
     "end_time": "2021-06-08T10:14:19.446782",
     "exception": false,
     "start_time": "2021-06-08T10:14:19.354378",
     "status": "completed"
    },
    "tags": []
   },
   "outputs": [
    {
     "data": {
      "text/html": [
       "<div>\n",
       "<style scoped>\n",
       "    .dataframe tbody tr th:only-of-type {\n",
       "        vertical-align: middle;\n",
       "    }\n",
       "\n",
       "    .dataframe tbody tr th {\n",
       "        vertical-align: top;\n",
       "    }\n",
       "\n",
       "    .dataframe thead th {\n",
       "        text-align: right;\n",
       "    }\n",
       "</style>\n",
       "<table border=\"1\" class=\"dataframe\">\n",
       "  <thead>\n",
       "    <tr style=\"text-align: right;\">\n",
       "      <th></th>\n",
       "      <th>datetime</th>\n",
       "      <th>season</th>\n",
       "      <th>holiday</th>\n",
       "      <th>workingday</th>\n",
       "      <th>weather</th>\n",
       "      <th>temp</th>\n",
       "      <th>atemp</th>\n",
       "      <th>humidity</th>\n",
       "      <th>windspeed</th>\n",
       "      <th>casual</th>\n",
       "      <th>registered</th>\n",
       "      <th>count</th>\n",
       "    </tr>\n",
       "  </thead>\n",
       "  <tbody>\n",
       "    <tr>\n",
       "      <th>0</th>\n",
       "      <td>2011-01-01 00:00:00</td>\n",
       "      <td>1</td>\n",
       "      <td>0</td>\n",
       "      <td>0</td>\n",
       "      <td>1</td>\n",
       "      <td>9.84</td>\n",
       "      <td>14.395</td>\n",
       "      <td>81</td>\n",
       "      <td>0.0</td>\n",
       "      <td>3</td>\n",
       "      <td>13</td>\n",
       "      <td>16</td>\n",
       "    </tr>\n",
       "    <tr>\n",
       "      <th>1</th>\n",
       "      <td>2011-01-01 01:00:00</td>\n",
       "      <td>1</td>\n",
       "      <td>0</td>\n",
       "      <td>0</td>\n",
       "      <td>1</td>\n",
       "      <td>9.02</td>\n",
       "      <td>13.635</td>\n",
       "      <td>80</td>\n",
       "      <td>0.0</td>\n",
       "      <td>8</td>\n",
       "      <td>32</td>\n",
       "      <td>40</td>\n",
       "    </tr>\n",
       "    <tr>\n",
       "      <th>2</th>\n",
       "      <td>2011-01-01 02:00:00</td>\n",
       "      <td>1</td>\n",
       "      <td>0</td>\n",
       "      <td>0</td>\n",
       "      <td>1</td>\n",
       "      <td>9.02</td>\n",
       "      <td>13.635</td>\n",
       "      <td>80</td>\n",
       "      <td>0.0</td>\n",
       "      <td>5</td>\n",
       "      <td>27</td>\n",
       "      <td>32</td>\n",
       "    </tr>\n",
       "    <tr>\n",
       "      <th>3</th>\n",
       "      <td>2011-01-01 03:00:00</td>\n",
       "      <td>1</td>\n",
       "      <td>0</td>\n",
       "      <td>0</td>\n",
       "      <td>1</td>\n",
       "      <td>9.84</td>\n",
       "      <td>14.395</td>\n",
       "      <td>75</td>\n",
       "      <td>0.0</td>\n",
       "      <td>3</td>\n",
       "      <td>10</td>\n",
       "      <td>13</td>\n",
       "    </tr>\n",
       "    <tr>\n",
       "      <th>4</th>\n",
       "      <td>2011-01-01 04:00:00</td>\n",
       "      <td>1</td>\n",
       "      <td>0</td>\n",
       "      <td>0</td>\n",
       "      <td>1</td>\n",
       "      <td>9.84</td>\n",
       "      <td>14.395</td>\n",
       "      <td>75</td>\n",
       "      <td>0.0</td>\n",
       "      <td>0</td>\n",
       "      <td>1</td>\n",
       "      <td>1</td>\n",
       "    </tr>\n",
       "  </tbody>\n",
       "</table>\n",
       "</div>"
      ],
      "text/plain": [
       "             datetime  season  holiday  workingday  weather  temp   atemp  \\\n",
       "0 2011-01-01 00:00:00       1        0           0        1  9.84  14.395   \n",
       "1 2011-01-01 01:00:00       1        0           0        1  9.02  13.635   \n",
       "2 2011-01-01 02:00:00       1        0           0        1  9.02  13.635   \n",
       "3 2011-01-01 03:00:00       1        0           0        1  9.84  14.395   \n",
       "4 2011-01-01 04:00:00       1        0           0        1  9.84  14.395   \n",
       "\n",
       "   humidity  windspeed  casual  registered  count  \n",
       "0        81        0.0       3          13     16  \n",
       "1        80        0.0       8          32     40  \n",
       "2        80        0.0       5          27     32  \n",
       "3        75        0.0       3          10     13  \n",
       "4        75        0.0       0           1      1  "
      ]
     },
     "execution_count": 3,
     "metadata": {},
     "output_type": "execute_result"
    }
   ],
   "source": [
    "# checking the first five rows of train data\n",
    "df_train.head()"
   ]
  },
  {
   "cell_type": "markdown",
   "id": "fancy-harvey",
   "metadata": {
    "papermill": {
     "duration": 0.054773,
     "end_time": "2021-06-08T10:14:19.555044",
     "exception": false,
     "start_time": "2021-06-08T10:14:19.500271",
     "status": "completed"
    },
    "tags": []
   },
   "source": [
    "**A SHORT DESCRIPTION OF THE DATA FEATURES-**<br>\n",
    "\n",
    "datetime -> hourly date + timestamp\n",
    "\n",
    "season -> 1 = spring, 2 = summer, 3 = fall, 4 = winter\n",
    "\n",
    "holiday -> whether the day is considered a holiday\n",
    "\n",
    "workingday -> whether the day is neither a weekend nor holiday\n",
    "\n",
    "weather ->\n",
    "\n",
    "1: Clear, Few clouds, Partly cloudy, Partly cloudy\n",
    "\n",
    "2: Mist + Cloudy, Mist + Broken clouds, Mist + Few clouds, Mist\n",
    "\n",
    "3: Light Snow, Light Rain + Thunderstorm + Scattered clouds, Light Rain + Scattered clouds\n",
    "\n",
    "4: Heavy Rain + Ice Pallets + Thunderstorm + Mist, Snow + Fog\n",
    "\n",
    "temp -> temperature in Celsius\n",
    "\n",
    "atemp -> \"feels like\" temperature in Celsius\n",
    "\n",
    "humidity -> relative humidity\n",
    "\n",
    "windspeed -> wind speed\n",
    "\n",
    "casual -> number of non-registered user rentals initiated\n",
    "\n",
    "registered -> number of registered user rentals initiated\n",
    "\n",
    "count -> number of total rentals\n"
   ]
  },
  {
   "cell_type": "code",
   "execution_count": 4,
   "id": "gorgeous-sessions",
   "metadata": {
    "execution": {
     "iopub.execute_input": "2021-06-08T10:14:19.666929Z",
     "iopub.status.busy": "2021-06-08T10:14:19.666152Z",
     "iopub.status.idle": "2021-06-08T10:14:19.669484Z",
     "shell.execute_reply": "2021-06-08T10:14:19.670063Z",
     "shell.execute_reply.started": "2021-06-08T10:10:16.353809Z"
    },
    "papermill": {
     "duration": 0.062139,
     "end_time": "2021-06-08T10:14:19.670284",
     "exception": false,
     "start_time": "2021-06-08T10:14:19.608145",
     "status": "completed"
    },
    "tags": []
   },
   "outputs": [
    {
     "data": {
      "text/plain": [
       "(10886, 12)"
      ]
     },
     "execution_count": 4,
     "metadata": {},
     "output_type": "execute_result"
    }
   ],
   "source": [
    "# checking Shape of the data\n",
    "df_train.shape"
   ]
  },
  {
   "cell_type": "code",
   "execution_count": 5,
   "id": "smaller-intention",
   "metadata": {
    "execution": {
     "iopub.execute_input": "2021-06-08T10:14:19.781274Z",
     "iopub.status.busy": "2021-06-08T10:14:19.780515Z",
     "iopub.status.idle": "2021-06-08T10:14:19.842060Z",
     "shell.execute_reply": "2021-06-08T10:14:19.841427Z",
     "shell.execute_reply.started": "2021-06-08T10:10:16.361964Z"
    },
    "papermill": {
     "duration": 0.117903,
     "end_time": "2021-06-08T10:14:19.842246",
     "exception": false,
     "start_time": "2021-06-08T10:14:19.724343",
     "status": "completed"
    },
    "tags": []
   },
   "outputs": [
    {
     "data": {
      "text/html": [
       "<div>\n",
       "<style scoped>\n",
       "    .dataframe tbody tr th:only-of-type {\n",
       "        vertical-align: middle;\n",
       "    }\n",
       "\n",
       "    .dataframe tbody tr th {\n",
       "        vertical-align: top;\n",
       "    }\n",
       "\n",
       "    .dataframe thead th {\n",
       "        text-align: right;\n",
       "    }\n",
       "</style>\n",
       "<table border=\"1\" class=\"dataframe\">\n",
       "  <thead>\n",
       "    <tr style=\"text-align: right;\">\n",
       "      <th></th>\n",
       "      <th>season</th>\n",
       "      <th>holiday</th>\n",
       "      <th>workingday</th>\n",
       "      <th>weather</th>\n",
       "      <th>temp</th>\n",
       "      <th>atemp</th>\n",
       "      <th>humidity</th>\n",
       "      <th>windspeed</th>\n",
       "      <th>casual</th>\n",
       "      <th>registered</th>\n",
       "      <th>count</th>\n",
       "    </tr>\n",
       "  </thead>\n",
       "  <tbody>\n",
       "    <tr>\n",
       "      <th>count</th>\n",
       "      <td>10886.000000</td>\n",
       "      <td>10886.000000</td>\n",
       "      <td>10886.000000</td>\n",
       "      <td>10886.000000</td>\n",
       "      <td>10886.00000</td>\n",
       "      <td>10886.000000</td>\n",
       "      <td>10886.000000</td>\n",
       "      <td>10886.000000</td>\n",
       "      <td>10886.000000</td>\n",
       "      <td>10886.000000</td>\n",
       "      <td>10886.000000</td>\n",
       "    </tr>\n",
       "    <tr>\n",
       "      <th>mean</th>\n",
       "      <td>2.506614</td>\n",
       "      <td>0.028569</td>\n",
       "      <td>0.680875</td>\n",
       "      <td>1.418427</td>\n",
       "      <td>20.23086</td>\n",
       "      <td>23.655084</td>\n",
       "      <td>61.886460</td>\n",
       "      <td>12.799395</td>\n",
       "      <td>36.021955</td>\n",
       "      <td>155.552177</td>\n",
       "      <td>191.574132</td>\n",
       "    </tr>\n",
       "    <tr>\n",
       "      <th>std</th>\n",
       "      <td>1.116174</td>\n",
       "      <td>0.166599</td>\n",
       "      <td>0.466159</td>\n",
       "      <td>0.633839</td>\n",
       "      <td>7.79159</td>\n",
       "      <td>8.474601</td>\n",
       "      <td>19.245033</td>\n",
       "      <td>8.164537</td>\n",
       "      <td>49.960477</td>\n",
       "      <td>151.039033</td>\n",
       "      <td>181.144454</td>\n",
       "    </tr>\n",
       "    <tr>\n",
       "      <th>min</th>\n",
       "      <td>1.000000</td>\n",
       "      <td>0.000000</td>\n",
       "      <td>0.000000</td>\n",
       "      <td>1.000000</td>\n",
       "      <td>0.82000</td>\n",
       "      <td>0.760000</td>\n",
       "      <td>0.000000</td>\n",
       "      <td>0.000000</td>\n",
       "      <td>0.000000</td>\n",
       "      <td>0.000000</td>\n",
       "      <td>1.000000</td>\n",
       "    </tr>\n",
       "    <tr>\n",
       "      <th>25%</th>\n",
       "      <td>2.000000</td>\n",
       "      <td>0.000000</td>\n",
       "      <td>0.000000</td>\n",
       "      <td>1.000000</td>\n",
       "      <td>13.94000</td>\n",
       "      <td>16.665000</td>\n",
       "      <td>47.000000</td>\n",
       "      <td>7.001500</td>\n",
       "      <td>4.000000</td>\n",
       "      <td>36.000000</td>\n",
       "      <td>42.000000</td>\n",
       "    </tr>\n",
       "    <tr>\n",
       "      <th>50%</th>\n",
       "      <td>3.000000</td>\n",
       "      <td>0.000000</td>\n",
       "      <td>1.000000</td>\n",
       "      <td>1.000000</td>\n",
       "      <td>20.50000</td>\n",
       "      <td>24.240000</td>\n",
       "      <td>62.000000</td>\n",
       "      <td>12.998000</td>\n",
       "      <td>17.000000</td>\n",
       "      <td>118.000000</td>\n",
       "      <td>145.000000</td>\n",
       "    </tr>\n",
       "    <tr>\n",
       "      <th>75%</th>\n",
       "      <td>4.000000</td>\n",
       "      <td>0.000000</td>\n",
       "      <td>1.000000</td>\n",
       "      <td>2.000000</td>\n",
       "      <td>26.24000</td>\n",
       "      <td>31.060000</td>\n",
       "      <td>77.000000</td>\n",
       "      <td>16.997900</td>\n",
       "      <td>49.000000</td>\n",
       "      <td>222.000000</td>\n",
       "      <td>284.000000</td>\n",
       "    </tr>\n",
       "    <tr>\n",
       "      <th>max</th>\n",
       "      <td>4.000000</td>\n",
       "      <td>1.000000</td>\n",
       "      <td>1.000000</td>\n",
       "      <td>4.000000</td>\n",
       "      <td>41.00000</td>\n",
       "      <td>45.455000</td>\n",
       "      <td>100.000000</td>\n",
       "      <td>56.996900</td>\n",
       "      <td>367.000000</td>\n",
       "      <td>886.000000</td>\n",
       "      <td>977.000000</td>\n",
       "    </tr>\n",
       "  </tbody>\n",
       "</table>\n",
       "</div>"
      ],
      "text/plain": [
       "             season       holiday    workingday       weather         temp  \\\n",
       "count  10886.000000  10886.000000  10886.000000  10886.000000  10886.00000   \n",
       "mean       2.506614      0.028569      0.680875      1.418427     20.23086   \n",
       "std        1.116174      0.166599      0.466159      0.633839      7.79159   \n",
       "min        1.000000      0.000000      0.000000      1.000000      0.82000   \n",
       "25%        2.000000      0.000000      0.000000      1.000000     13.94000   \n",
       "50%        3.000000      0.000000      1.000000      1.000000     20.50000   \n",
       "75%        4.000000      0.000000      1.000000      2.000000     26.24000   \n",
       "max        4.000000      1.000000      1.000000      4.000000     41.00000   \n",
       "\n",
       "              atemp      humidity     windspeed        casual    registered  \\\n",
       "count  10886.000000  10886.000000  10886.000000  10886.000000  10886.000000   \n",
       "mean      23.655084     61.886460     12.799395     36.021955    155.552177   \n",
       "std        8.474601     19.245033      8.164537     49.960477    151.039033   \n",
       "min        0.760000      0.000000      0.000000      0.000000      0.000000   \n",
       "25%       16.665000     47.000000      7.001500      4.000000     36.000000   \n",
       "50%       24.240000     62.000000     12.998000     17.000000    118.000000   \n",
       "75%       31.060000     77.000000     16.997900     49.000000    222.000000   \n",
       "max       45.455000    100.000000     56.996900    367.000000    886.000000   \n",
       "\n",
       "              count  \n",
       "count  10886.000000  \n",
       "mean     191.574132  \n",
       "std      181.144454  \n",
       "min        1.000000  \n",
       "25%       42.000000  \n",
       "50%      145.000000  \n",
       "75%      284.000000  \n",
       "max      977.000000  "
      ]
     },
     "execution_count": 5,
     "metadata": {},
     "output_type": "execute_result"
    }
   ],
   "source": [
    "# Summary Statistics \n",
    "df_train.describe()"
   ]
  },
  {
   "cell_type": "code",
   "execution_count": 6,
   "id": "olive-rocket",
   "metadata": {
    "execution": {
     "iopub.execute_input": "2021-06-08T10:14:19.956414Z",
     "iopub.status.busy": "2021-06-08T10:14:19.955730Z",
     "iopub.status.idle": "2021-06-08T10:14:19.963958Z",
     "shell.execute_reply": "2021-06-08T10:14:19.963395Z",
     "shell.execute_reply.started": "2021-06-08T10:10:16.417158Z"
    },
    "papermill": {
     "duration": 0.067485,
     "end_time": "2021-06-08T10:14:19.964133",
     "exception": false,
     "start_time": "2021-06-08T10:14:19.896648",
     "status": "completed"
    },
    "tags": []
   },
   "outputs": [
    {
     "data": {
      "text/plain": [
       "datetime      0\n",
       "season        0\n",
       "holiday       0\n",
       "workingday    0\n",
       "weather       0\n",
       "temp          0\n",
       "atemp         0\n",
       "humidity      0\n",
       "windspeed     0\n",
       "casual        0\n",
       "registered    0\n",
       "count         0\n",
       "dtype: int64"
      ]
     },
     "execution_count": 6,
     "metadata": {},
     "output_type": "execute_result"
    }
   ],
   "source": [
    "# checking missing values in training dataset\n",
    "df_train.isnull().sum()"
   ]
  },
  {
   "cell_type": "markdown",
   "id": "sacred-january",
   "metadata": {
    "papermill": {
     "duration": 0.054091,
     "end_time": "2021-06-08T10:14:20.073095",
     "exception": false,
     "start_time": "2021-06-08T10:14:20.019004",
     "status": "completed"
    },
    "tags": []
   },
   "source": [
    "**No Missing Value, hence no imputation needed.**"
   ]
  },
  {
   "cell_type": "code",
   "execution_count": 7,
   "id": "further-resident",
   "metadata": {
    "execution": {
     "iopub.execute_input": "2021-06-08T10:14:20.192466Z",
     "iopub.status.busy": "2021-06-08T10:14:20.191759Z",
     "iopub.status.idle": "2021-06-08T10:14:20.195147Z",
     "shell.execute_reply": "2021-06-08T10:14:20.195717Z",
     "shell.execute_reply.started": "2021-06-08T10:10:16.426581Z"
    },
    "papermill": {
     "duration": 0.066157,
     "end_time": "2021-06-08T10:14:20.195918",
     "exception": false,
     "start_time": "2021-06-08T10:14:20.129761",
     "status": "completed"
    },
    "tags": []
   },
   "outputs": [
    {
     "data": {
      "text/plain": [
       "datetime      datetime64[ns]\n",
       "season                 int64\n",
       "holiday                int64\n",
       "workingday             int64\n",
       "weather                int64\n",
       "temp                 float64\n",
       "atemp                float64\n",
       "humidity               int64\n",
       "windspeed            float64\n",
       "casual                 int64\n",
       "registered             int64\n",
       "count                  int64\n",
       "dtype: object"
      ]
     },
     "execution_count": 7,
     "metadata": {},
     "output_type": "execute_result"
    }
   ],
   "source": [
    "# checking datatypes\n",
    "df_train.dtypes"
   ]
  },
  {
   "cell_type": "markdown",
   "id": "humanitarian-thomson",
   "metadata": {
    "papermill": {
     "duration": 0.056213,
     "end_time": "2021-06-08T10:14:20.307107",
     "exception": false,
     "start_time": "2021-06-08T10:14:20.250894",
     "status": "completed"
    },
    "tags": []
   },
   "source": [
    "**HERE ALL THE VARIABLES  ARE NUMERIC AND THE TARGET VARIABLE THAT WE HAVE TO PREDICT IS THE 'count' VARIABLE. HENCE THIS IS A TYPICAL EXAMPLE OF A REGRESSION PROBLEM AS THE 'count' VARIABLE IS CONTINUOUS HERE.**"
   ]
  },
  {
   "cell_type": "markdown",
   "id": "solar-acceptance",
   "metadata": {
    "papermill": {
     "duration": 0.056698,
     "end_time": "2021-06-08T10:14:20.418989",
     "exception": false,
     "start_time": "2021-06-08T10:14:20.362291",
     "status": "completed"
    },
    "tags": []
   },
   "source": [
    "## **Feature Engineering**"
   ]
  },
  {
   "cell_type": "markdown",
   "id": "taken-tanzania",
   "metadata": {
    "papermill": {
     "duration": 0.055254,
     "end_time": "2021-06-08T10:14:20.530753",
     "exception": false,
     "start_time": "2021-06-08T10:14:20.475499",
     "status": "completed"
    },
    "tags": []
   },
   "source": [
    "As we can see from the above results, the columns \"season\",\"holiday\",\"workingday\" and \"weather\" should be of \"categorical\" data type.But the current data type is \"int\" for those columns. Lets transform the dataset in the following ways so that we can get started up with our EDA.\n",
    "\n",
    "* **Create new columns \"Year\",\"Day,\"hour\",\"weekDay\",\"month\" from \"datetime\" column.**\n",
    "* **Coerce the datatype of \"season\" and 'weather' to category.**\n",
    "* **Drop the datetime column as we already extracted useful features from it.**"
   ]
  },
  {
   "cell_type": "code",
   "execution_count": 8,
   "id": "logical-puzzle",
   "metadata": {
    "execution": {
     "iopub.execute_input": "2021-06-08T10:14:20.646122Z",
     "iopub.status.busy": "2021-06-08T10:14:20.645399Z",
     "iopub.status.idle": "2021-06-08T10:14:20.660473Z",
     "shell.execute_reply": "2021-06-08T10:14:20.661047Z",
     "shell.execute_reply.started": "2021-06-08T10:10:16.438069Z"
    },
    "papermill": {
     "duration": 0.073662,
     "end_time": "2021-06-08T10:14:20.661288",
     "exception": false,
     "start_time": "2021-06-08T10:14:20.587626",
     "status": "completed"
    },
    "tags": []
   },
   "outputs": [],
   "source": [
    "# Create new columns \"Year\",\"Day,\"hour\",\"weekDay\",\"month\" from \"datetime\" column.\n",
    "df_train['Year'] = df_train.datetime.dt.year\n",
    "df_train['Month'] = df_train.datetime.dt.month\n",
    "df_train['Day'] = df_train.datetime.dt.day\n",
    "df_train['Hour'] = df_train.datetime.dt.hour\n",
    "df_train['Wday'] = df_train.datetime.dt.weekday"
   ]
  },
  {
   "cell_type": "code",
   "execution_count": 9,
   "id": "piano-dragon",
   "metadata": {
    "execution": {
     "iopub.execute_input": "2021-06-08T10:14:20.775616Z",
     "iopub.status.busy": "2021-06-08T10:14:20.774784Z",
     "iopub.status.idle": "2021-06-08T10:14:20.793329Z",
     "shell.execute_reply": "2021-06-08T10:14:20.793919Z",
     "shell.execute_reply.started": "2021-06-08T10:10:16.455928Z"
    },
    "papermill": {
     "duration": 0.078331,
     "end_time": "2021-06-08T10:14:20.794142",
     "exception": false,
     "start_time": "2021-06-08T10:14:20.715811",
     "status": "completed"
    },
    "tags": []
   },
   "outputs": [],
   "source": [
    "# Coerce the datatype of \"season\" and 'weather' to category.\n",
    "# 1 = spring, 2 = summer, 3 = fall, 4 = winter \n",
    "df_train[\"season\"] = df_train.season.map({1: \"Spring\", 2 : \"Summer\", 3 : \"Fall\", 4 :\"Winter\" })\n",
    "\n",
    "# Weather\n",
    "# 1: Clear, Few clouds, Partly cloudy, Partly cloudy\n",
    "# 2: Mist + Cloudy, Mist + Broken clouds, Mist + Few clouds, Mist\n",
    "# 3: Light Snow, Light Rain + Thunderstorm + Scattered clouds, Light Rain + Scattered clouds\n",
    "# 4: Heavy Rain + Ice Pallets + Thunderstorm + Mist, Snow + Fog \n",
    "df_train[\"weather\"] = df_train.weather.map({1: \" Clear + Few clouds + Partly cloudy + Partly cloudy\",\\\n",
    "                                        2 : \" Mist + Cloudy, Mist + Broken clouds, Mist + Few clouds, Mist \", \\\n",
    "                                        3 : \" Light Snow, Light Rain + Thunderstorm + Scattered clouds, Light Rain + Scattered clouds\", \\\n",
    "                                        4 :\" Heavy Rain + Ice Pallets + Thunderstorm + Mist, Snow + Fog \" }) \n",
    "\n",
    "categoricalVariableList = [\"season\",\"weather\",'Year']\n",
    "for var in categoricalVariableList:\n",
    "    df_train[var] = df_train[var].astype(\"category\")"
   ]
  },
  {
   "cell_type": "markdown",
   "id": "nutritional-burst",
   "metadata": {
    "papermill": {
     "duration": 0.054825,
     "end_time": "2021-06-08T10:14:20.905646",
     "exception": false,
     "start_time": "2021-06-08T10:14:20.850821",
     "status": "completed"
    },
    "tags": []
   },
   "source": [
    "## **Exploratory Data Analysis(EDA)**"
   ]
  },
  {
   "cell_type": "markdown",
   "id": "pressed-stack",
   "metadata": {
    "papermill": {
     "duration": 0.055683,
     "end_time": "2021-06-08T10:14:21.018441",
     "exception": false,
     "start_time": "2021-06-08T10:14:20.962758",
     "status": "completed"
    },
    "tags": []
   },
   "source": [
    "### Correlation Analysis"
   ]
  },
  {
   "cell_type": "code",
   "execution_count": 10,
   "id": "above-retirement",
   "metadata": {
    "execution": {
     "iopub.execute_input": "2021-06-08T10:14:21.135406Z",
     "iopub.status.busy": "2021-06-08T10:14:21.134641Z",
     "iopub.status.idle": "2021-06-08T10:14:22.298215Z",
     "shell.execute_reply": "2021-06-08T10:14:22.298757Z",
     "shell.execute_reply.started": "2021-06-08T10:10:16.474873Z"
    },
    "papermill": {
     "duration": 1.223707,
     "end_time": "2021-06-08T10:14:22.298964",
     "exception": false,
     "start_time": "2021-06-08T10:14:21.075257",
     "status": "completed"
    },
    "tags": []
   },
   "outputs": [
    {
     "data": {
      "image/png": "[encoded data removed]",
      "text/plain": [
       "<Figure size 1080x720 with 2 Axes>"
      ]
     },
     "metadata": {
      "needs_background": "light"
     },
     "output_type": "display_data"
    }
   ],
   "source": [
    "plt.figure(figsize=(15,10))\n",
    "sns.heatmap(df_train.corr(),annot=True,cmap='plasma')\n",
    "plt.show()"
   ]
  },
  {
   "cell_type": "markdown",
   "id": "distinct-digit",
   "metadata": {
    "papermill": {
     "duration": 0.05767,
     "end_time": "2021-06-08T10:14:22.415241",
     "exception": false,
     "start_time": "2021-06-08T10:14:22.357571",
     "status": "completed"
    },
    "tags": []
   },
   "source": [
    "**Insights-**\n",
    "\n",
    "* temp and humidity feature has got positive and negative correlation with count respectively.\n",
    "* windspeed is not gonna be really useful numerical feature and it is visible from it correlation value with \"count\".\n",
    "* humidity is inversely related to count as expected as the weather is humid, people will not like to travel on a bike.\n",
    "* registered/casual and count are highly correlated which indicates that most of the bikes that are rented are registered.\n",
    "* \"atemp\" is variable is not taken into account since \"atemp\" and \"temp\" has got very strong correlation with each other. During model building any one of the variable has to be dropped since they will exhibit multicollinearity in the data.\n",
    "* \"Casual\" and \"Registered\" are also not taken into account since they are leakage variables in nature and need to dropped during model building."
   ]
  },
  {
   "cell_type": "code",
   "execution_count": 11,
   "id": "affecting-slide",
   "metadata": {
    "execution": {
     "iopub.execute_input": "2021-06-08T10:14:22.559735Z",
     "iopub.status.busy": "2021-06-08T10:14:22.547871Z",
     "iopub.status.idle": "2021-06-08T10:14:22.651358Z",
     "shell.execute_reply": "2021-06-08T10:14:22.650606Z",
     "shell.execute_reply.started": "2021-06-08T10:10:17.628005Z"
    },
    "papermill": {
     "duration": 0.176599,
     "end_time": "2021-06-08T10:14:22.651534",
     "exception": false,
     "start_time": "2021-06-08T10:14:22.474935",
     "status": "completed"
    },
    "tags": []
   },
   "outputs": [
    {
     "data": {
      "image/png": "[encoded data removed]",
      "text/plain": [
       "<Figure size 432x288 with 1 Axes>"
      ]
     },
     "metadata": {
      "needs_background": "light"
     },
     "output_type": "display_data"
    }
   ],
   "source": [
    "# Lets Explore our target variable\n",
    "sns.boxplot(data=df_train,y=\"count\")\n",
    "plt.show()"
   ]
  },
  {
   "cell_type": "markdown",
   "id": "original-resort",
   "metadata": {
    "papermill": {
     "duration": 0.058155,
     "end_time": "2021-06-08T10:14:22.767869",
     "exception": false,
     "start_time": "2021-06-08T10:14:22.709714",
     "status": "completed"
    },
    "tags": []
   },
   "source": [
    "**Boxplot Shows that \"count\" variable contains lot of outlier data points.**"
   ]
  },
  {
   "cell_type": "markdown",
   "id": "figured-watson",
   "metadata": {
    "papermill": {
     "duration": 0.059989,
     "end_time": "2021-06-08T10:14:22.887086",
     "exception": false,
     "start_time": "2021-06-08T10:14:22.827097",
     "status": "completed"
    },
    "tags": []
   },
   "source": [
    "* Lets Remove Outliers In The Count Column"
   ]
  },
  {
   "cell_type": "code",
   "execution_count": 12,
   "id": "reliable-trunk",
   "metadata": {
    "execution": {
     "iopub.execute_input": "2021-06-08T10:14:23.012649Z",
     "iopub.status.busy": "2021-06-08T10:14:23.011870Z",
     "iopub.status.idle": "2021-06-08T10:14:23.045192Z",
     "shell.execute_reply": "2021-06-08T10:14:23.045702Z",
     "shell.execute_reply.started": "2021-06-08T10:10:17.741238Z"
    },
    "papermill": {
     "duration": 0.098602,
     "end_time": "2021-06-08T10:14:23.045894",
     "exception": false,
     "start_time": "2021-06-08T10:14:22.947292",
     "status": "completed"
    },
    "tags": []
   },
   "outputs": [
    {
     "data": {
      "text/plain": [
       "(10586, 17)"
      ]
     },
     "execution_count": 12,
     "metadata": {},
     "output_type": "execute_result"
    }
   ],
   "source": [
    "Q1 = df_train['count'].quantile(0.25)\n",
    "Q3 = df_train['count'].quantile(0.75)\n",
    "IQR = Q3 - Q1\n",
    "df_train = df_train[~((df_train['count'] < (Q1 - 1.5 * IQR)) |(df_train['count'] > (Q3 + 1.5 * IQR)))]\n",
    "df_train.shape"
   ]
  },
  {
   "cell_type": "code",
   "execution_count": 13,
   "id": "baking-address",
   "metadata": {
    "execution": {
     "iopub.execute_input": "2021-06-08T10:14:23.170163Z",
     "iopub.status.busy": "2021-06-08T10:14:23.169443Z",
     "iopub.status.idle": "2021-06-08T10:14:23.436873Z",
     "shell.execute_reply": "2021-06-08T10:14:23.436382Z",
     "shell.execute_reply.started": "2021-06-08T10:10:17.773170Z"
    },
    "papermill": {
     "duration": 0.332696,
     "end_time": "2021-06-08T10:14:23.437011",
     "exception": false,
     "start_time": "2021-06-08T10:14:23.104315",
     "status": "completed"
    },
    "tags": []
   },
   "outputs": [
    {
     "data": {
      "image/png": "[encoded data removed]",
      "text/plain": [
       "<Figure size 576x432 with 1 Axes>"
      ]
     },
     "metadata": {
      "needs_background": "light"
     },
     "output_type": "display_data"
    }
   ],
   "source": [
    "# lets check the distribution of count variable\n",
    "plt.figure(figsize=(8,6))\n",
    "df_train['count'].plot(kind='hist',bins=50,ec='black')\n",
    "plt.show()"
   ]
  },
  {
   "cell_type": "markdown",
   "id": "macro-trustee",
   "metadata": {
    "papermill": {
     "duration": 0.059765,
     "end_time": "2021-06-08T10:14:23.554871",
     "exception": false,
     "start_time": "2021-06-08T10:14:23.495106",
     "status": "completed"
    },
    "tags": []
   },
   "source": [
    "**NOW WE CAN EXPLORE OUR FEATURES. FIRST LETS EXPLORE THE DISTRIBUTION OF VARIOUS DISCRETE FEATURES LIKE weather , season etc...**"
   ]
  },
  {
   "cell_type": "markdown",
   "id": "reserved-undergraduate",
   "metadata": {
    "papermill": {
     "duration": 0.071495,
     "end_time": "2021-06-08T10:14:23.688198",
     "exception": false,
     "start_time": "2021-06-08T10:14:23.616703",
     "status": "completed"
    },
    "tags": []
   },
   "source": [
    "### Boxplot of Season"
   ]
  },
  {
   "cell_type": "code",
   "execution_count": 14,
   "id": "postal-barcelona",
   "metadata": {
    "execution": {
     "iopub.execute_input": "2021-06-08T10:14:23.828699Z",
     "iopub.status.busy": "2021-06-08T10:14:23.827707Z",
     "iopub.status.idle": "2021-06-08T10:14:24.050653Z",
     "shell.execute_reply": "2021-06-08T10:14:24.051414Z",
     "shell.execute_reply.started": "2021-06-08T10:10:18.034233Z"
    },
    "papermill": {
     "duration": 0.293854,
     "end_time": "2021-06-08T10:14:24.051656",
     "exception": false,
     "start_time": "2021-06-08T10:14:23.757802",
     "status": "completed"
    },
    "tags": []
   },
   "outputs": [
    {
     "data": {
      "image/png": "[encoded data removed]",
      "text/plain": [
       "<Figure size 720x432 with 1 Axes>"
      ]
     },
     "metadata": {
      "needs_background": "light"
     },
     "output_type": "display_data"
    }
   ],
   "source": [
    "plt.figure(figsize=(10,6))\n",
    "sns.boxplot(data=df_train,y=\"count\",x=\"season\",orient=\"v\")\n",
    "plt.show()"
   ]
  },
  {
   "cell_type": "markdown",
   "id": "cosmetic-fountain",
   "metadata": {
    "papermill": {
     "duration": 0.060931,
     "end_time": "2021-06-08T10:14:24.178398",
     "exception": false,
     "start_time": "2021-06-08T10:14:24.117467",
     "status": "completed"
    },
    "tags": []
   },
   "source": [
    "**Spring season has got relatively lower count.The dip in median value in boxplot gives evidence for it.**"
   ]
  },
  {
   "cell_type": "markdown",
   "id": "constitutional-contrary",
   "metadata": {
    "papermill": {
     "duration": 0.060051,
     "end_time": "2021-06-08T10:14:24.299038",
     "exception": false,
     "start_time": "2021-06-08T10:14:24.238987",
     "status": "completed"
    },
    "tags": []
   },
   "source": [
    "### Boxplot of Hour"
   ]
  },
  {
   "cell_type": "code",
   "execution_count": 15,
   "id": "adequate-promotion",
   "metadata": {
    "execution": {
     "iopub.execute_input": "2021-06-08T10:14:24.433011Z",
     "iopub.status.busy": "2021-06-08T10:14:24.431858Z",
     "iopub.status.idle": "2021-06-08T10:14:25.041252Z",
     "shell.execute_reply": "2021-06-08T10:14:25.040560Z",
     "shell.execute_reply.started": "2021-06-08T10:10:18.222265Z"
    },
    "papermill": {
     "duration": 0.682084,
     "end_time": "2021-06-08T10:14:25.041408",
     "exception": false,
     "start_time": "2021-06-08T10:14:24.359324",
     "status": "completed"
    },
    "tags": []
   },
   "outputs": [
    {
     "data": {
      "image/png": "[encoded data removed]",
      "text/plain": [
       "<Figure size 864x432 with 1 Axes>"
      ]
     },
     "metadata": {
      "needs_background": "light"
     },
     "output_type": "display_data"
    }
   ],
   "source": [
    "plt.figure(figsize=(12,6))\n",
    "sns.boxplot(data=df_train,y=\"count\",x=\"Hour\",orient=\"v\")\n",
    "plt.show()"
   ]
  },
  {
   "cell_type": "markdown",
   "id": "antique-pointer",
   "metadata": {
    "papermill": {
     "duration": 0.060617,
     "end_time": "2021-06-08T10:14:25.162654",
     "exception": false,
     "start_time": "2021-06-08T10:14:25.102037",
     "status": "completed"
    },
    "tags": []
   },
   "source": [
    "**The boxplot of \"Hour\" is quiet interesting.The median value are relatively higher at 7AM - 8AM and 5PM - 6PM. It can be attributed to regular school and office users at that time.**"
   ]
  },
  {
   "cell_type": "markdown",
   "id": "engaged-grave",
   "metadata": {
    "papermill": {
     "duration": 0.060112,
     "end_time": "2021-06-08T10:14:25.282938",
     "exception": false,
     "start_time": "2021-06-08T10:14:25.222826",
     "status": "completed"
    },
    "tags": []
   },
   "source": [
    "### Boxplot of WorkingDay"
   ]
  },
  {
   "cell_type": "code",
   "execution_count": 16,
   "id": "latest-hawaii",
   "metadata": {
    "execution": {
     "iopub.execute_input": "2021-06-08T10:14:25.410961Z",
     "iopub.status.busy": "2021-06-08T10:14:25.409481Z",
     "iopub.status.idle": "2021-06-08T10:14:25.546817Z",
     "shell.execute_reply": "2021-06-08T10:14:25.546294Z",
     "shell.execute_reply.started": "2021-06-08T10:10:18.769230Z"
    },
    "papermill": {
     "duration": 0.203588,
     "end_time": "2021-06-08T10:14:25.546950",
     "exception": false,
     "start_time": "2021-06-08T10:14:25.343362",
     "status": "completed"
    },
    "tags": []
   },
   "outputs": [
    {
     "data": {
      "image/png": "[encoded data removed]",
      "text/plain": [
       "<Figure size 432x288 with 1 Axes>"
      ]
     },
     "metadata": {
      "needs_background": "light"
     },
     "output_type": "display_data"
    }
   ],
   "source": [
    "sns.boxplot(data=df_train,y=\"count\",x=\"workingday\",orient=\"v\")\n",
    "plt.show()"
   ]
  },
  {
   "cell_type": "markdown",
   "id": "other-print",
   "metadata": {
    "papermill": {
     "duration": 0.059847,
     "end_time": "2021-06-08T10:14:25.667099",
     "exception": false,
     "start_time": "2021-06-08T10:14:25.607252",
     "status": "completed"
    },
    "tags": []
   },
   "source": [
    "**Most of the outlier points are mainly contributed from \"Working Day\" than \"Non Working Day\".**"
   ]
  },
  {
   "cell_type": "markdown",
   "id": "motivated-facing",
   "metadata": {
    "papermill": {
     "duration": 0.066303,
     "end_time": "2021-06-08T10:14:25.794123",
     "exception": false,
     "start_time": "2021-06-08T10:14:25.727820",
     "status": "completed"
    },
    "tags": []
   },
   "source": [
    "### Average Count by Month"
   ]
  },
  {
   "cell_type": "code",
   "execution_count": 17,
   "id": "freelance-motivation",
   "metadata": {
    "execution": {
     "iopub.execute_input": "2021-06-08T10:14:25.926597Z",
     "iopub.status.busy": "2021-06-08T10:14:25.925909Z",
     "iopub.status.idle": "2021-06-08T10:14:26.631130Z",
     "shell.execute_reply": "2021-06-08T10:14:26.632520Z",
     "shell.execute_reply.started": "2021-06-08T10:10:18.905249Z"
    },
    "papermill": {
     "duration": 0.7763,
     "end_time": "2021-06-08T10:14:26.632755",
     "exception": false,
     "start_time": "2021-06-08T10:14:25.856455",
     "status": "completed"
    },
    "tags": []
   },
   "outputs": [
    {
     "data": {
      "image/png": "[encoded data removed]",
      "text/plain": [
       "<Figure size 864x432 with 1 Axes>"
      ]
     },
     "metadata": {
      "needs_background": "light"
     },
     "output_type": "display_data"
    }
   ],
   "source": [
    "plt.figure(figsize=(12,6))\n",
    "sortOrder = [\"January\",\"February\",\"March\",\"April\",\"May\",\"June\",\"July\",\"August\",\"September\",\"October\",\"November\",\"December\"]\n",
    "g = sns.barplot(data=df_train,x=\"Month\",y=\"count\")\n",
    "g.set_xticklabels(sortOrder)\n",
    "plt.show()"
   ]
  },
  {
   "cell_type": "markdown",
   "id": "advanced-sunglasses",
   "metadata": {
    "papermill": {
     "duration": 0.063634,
     "end_time": "2021-06-08T10:14:26.758989",
     "exception": false,
     "start_time": "2021-06-08T10:14:26.695355",
     "status": "completed"
    },
    "tags": []
   },
   "source": [
    "**It is quiet obvious that people tend to rent bike during summer season since it is really conducive to ride bike at that season.Therefore June, July and August has got relatively higher demand for bicycle.**"
   ]
  },
  {
   "cell_type": "markdown",
   "id": "unusual-pakistan",
   "metadata": {
    "papermill": {
     "duration": 0.063012,
     "end_time": "2021-06-08T10:14:26.884361",
     "exception": false,
     "start_time": "2021-06-08T10:14:26.821349",
     "status": "completed"
    },
    "tags": []
   },
   "source": [
    "### Average Users Count By Hour Of The Day Across Season"
   ]
  },
  {
   "cell_type": "code",
   "execution_count": 18,
   "id": "republican-trade",
   "metadata": {
    "execution": {
     "iopub.execute_input": "2021-06-08T10:14:27.032070Z",
     "iopub.status.busy": "2021-06-08T10:14:27.026589Z",
     "iopub.status.idle": "2021-06-08T10:14:30.870790Z",
     "shell.execute_reply": "2021-06-08T10:14:30.870066Z",
     "shell.execute_reply.started": "2021-06-08T10:10:19.596948Z"
    },
    "papermill": {
     "duration": 3.924525,
     "end_time": "2021-06-08T10:14:30.870937",
     "exception": false,
     "start_time": "2021-06-08T10:14:26.946412",
     "status": "completed"
    },
    "tags": []
   },
   "outputs": [
    {
     "data": {
      "image/png": "[encoded data removed]",
      "text/plain": [
       "<Figure size 1080x432 with 1 Axes>"
      ]
     },
     "metadata": {
      "needs_background": "light"
     },
     "output_type": "display_data"
    }
   ],
   "source": [
    "plt.figure(figsize=(15,6))\n",
    "l = sns.pointplot(x=df_train[\"Hour\"], y=df_train[\"count\"],hue=df_train[\"season\"], data=df_train, join=True)\n",
    "l.set(xlabel='Hour Of The Day', ylabel='Users Count',title=\"Average Users Count By Hour Of The Day Across Season\",label='big')\n",
    "plt.show()"
   ]
  },
  {
   "cell_type": "markdown",
   "id": "prospective-capacity",
   "metadata": {
    "papermill": {
     "duration": 0.065577,
     "end_time": "2021-06-08T10:14:31.002403",
     "exception": false,
     "start_time": "2021-06-08T10:14:30.936826",
     "status": "completed"
    },
    "tags": []
   },
   "source": [
    "**More people tend to rent bicycle around 7AM-8AM and 5PM-6PM.**"
   ]
  },
  {
   "cell_type": "markdown",
   "id": "empty-middle",
   "metadata": {
    "papermill": {
     "duration": 0.066267,
     "end_time": "2021-06-08T10:14:31.135679",
     "exception": false,
     "start_time": "2021-06-08T10:14:31.069412",
     "status": "completed"
    },
    "tags": []
   },
   "source": [
    "### Average Users Count By Hour Of The Day Across Weekdays"
   ]
  },
  {
   "cell_type": "code",
   "execution_count": 19,
   "id": "social-substitute",
   "metadata": {
    "execution": {
     "iopub.execute_input": "2021-06-08T10:14:31.288522Z",
     "iopub.status.busy": "2021-06-08T10:14:31.287824Z",
     "iopub.status.idle": "2021-06-08T10:14:37.886799Z",
     "shell.execute_reply": "2021-06-08T10:14:37.886147Z",
     "shell.execute_reply.started": "2021-06-08T10:10:23.404639Z"
    },
    "papermill": {
     "duration": 6.685315,
     "end_time": "2021-06-08T10:14:37.886973",
     "exception": false,
     "start_time": "2021-06-08T10:14:31.201658",
     "status": "completed"
    },
    "tags": []
   },
   "outputs": [
    {
     "data": {
      "image/png": "[encoded data removed]",
      "text/plain": [
       "<Figure size 1080x432 with 1 Axes>"
      ]
     },
     "metadata": {
      "needs_background": "light"
     },
     "output_type": "display_data"
    }
   ],
   "source": [
    "plt.figure(figsize=(15,6))\n",
    "hueOrder = [\"Sunday\",\"Monday\",\"Tuesday\",\"Wednesday\",\"Thursday\",\"Friday\",\"Saturday\"]\n",
    "m = sns.pointplot(x=df_train[\"Hour\"], y=df_train[\"count\"],hue=df_train[\"Wday\"], data=df_train, join=True)\n",
    "m.set(xlabel='Hour Of The Day', ylabel='Users Count',title=\"Average Users Count By Hour Of The Day Across Weekdays\",label='big')\n",
    "plt.show()"
   ]
  },
  {
   "cell_type": "markdown",
   "id": "delayed-builder",
   "metadata": {
    "papermill": {
     "duration": 0.069239,
     "end_time": "2021-06-08T10:14:38.025701",
     "exception": false,
     "start_time": "2021-06-08T10:14:37.956462",
     "status": "completed"
    },
    "tags": []
   },
   "source": [
    "**As we mentioned earlier On weekdays more people tend to rent bicycle around 7AM-8AM and 5PM-6PM. this can be attributed to regular school and office users and on weekends \"Saturday(5)\" and \"Sunday(6)\",More people tend to rent bicycle between 10AM and 4PM.**"
   ]
  },
  {
   "cell_type": "markdown",
   "id": "prescription-apple",
   "metadata": {
    "papermill": {
     "duration": 0.069308,
     "end_time": "2021-06-08T10:14:38.165439",
     "exception": false,
     "start_time": "2021-06-08T10:14:38.096131",
     "status": "completed"
    },
    "tags": []
   },
   "source": [
    "### Distribution of Holiday"
   ]
  },
  {
   "cell_type": "code",
   "execution_count": 20,
   "id": "boring-bronze",
   "metadata": {
    "execution": {
     "iopub.execute_input": "2021-06-08T10:14:38.309801Z",
     "iopub.status.busy": "2021-06-08T10:14:38.308980Z",
     "iopub.status.idle": "2021-06-08T10:14:38.552196Z",
     "shell.execute_reply": "2021-06-08T10:14:38.551139Z",
     "shell.execute_reply.started": "2021-06-08T10:10:29.848623Z"
    },
    "papermill": {
     "duration": 0.318237,
     "end_time": "2021-06-08T10:14:38.552357",
     "exception": false,
     "start_time": "2021-06-08T10:14:38.234120",
     "status": "completed"
    },
    "tags": []
   },
   "outputs": [
    {
     "data": {
      "image/png": "[encoded data removed]",
      "text/plain": [
       "<Figure size 360x360 with 1 Axes>"
      ]
     },
     "metadata": {
      "needs_background": "light"
     },
     "output_type": "display_data"
    }
   ],
   "source": [
    "#holiday\n",
    "sns.factorplot(x='holiday',data=df_train,kind='count',size=5,aspect=1)\n",
    "plt.show()"
   ]
  },
  {
   "cell_type": "markdown",
   "id": "foreign-affairs",
   "metadata": {
    "papermill": {
     "duration": 0.067191,
     "end_time": "2021-06-08T10:14:38.687225",
     "exception": false,
     "start_time": "2021-06-08T10:14:38.620034",
     "status": "completed"
    },
    "tags": []
   },
   "source": [
    "**Majority of data is for non holiday days.**"
   ]
  },
  {
   "cell_type": "markdown",
   "id": "marked-arbor",
   "metadata": {
    "papermill": {
     "duration": 0.068122,
     "end_time": "2021-06-08T10:14:38.826951",
     "exception": false,
     "start_time": "2021-06-08T10:14:38.758829",
     "status": "completed"
    },
    "tags": []
   },
   "source": [
    "### Distribution of Continuous Variables"
   ]
  },
  {
   "cell_type": "code",
   "execution_count": 21,
   "id": "drawn-constitutional",
   "metadata": {
    "execution": {
     "iopub.execute_input": "2021-06-08T10:14:38.974678Z",
     "iopub.status.busy": "2021-06-08T10:14:38.973981Z",
     "iopub.status.idle": "2021-06-08T10:14:39.247055Z",
     "shell.execute_reply": "2021-06-08T10:14:39.247604Z",
     "shell.execute_reply.started": "2021-06-08T10:10:30.070544Z"
    },
    "papermill": {
     "duration": 0.351952,
     "end_time": "2021-06-08T10:14:39.247782",
     "exception": false,
     "start_time": "2021-06-08T10:14:38.895830",
     "status": "completed"
    },
    "tags": []
   },
   "outputs": [
    {
     "data": {
      "image/png": "[encoded data removed]",
      "text/plain": [
       "<Figure size 1296x576 with 1 Axes>"
      ]
     },
     "metadata": {
      "needs_background": "light"
     },
     "output_type": "display_data"
    }
   ],
   "source": [
    "plt.figure(figsize=(18,8))\n",
    "sns.boxplot(data=df_train[['temp',\n",
    "       'atemp', 'humidity', 'windspeed', 'casual', 'registered', 'count']])\n",
    "fig=plt.gcf()\n",
    "plt.show()"
   ]
  },
  {
   "cell_type": "markdown",
   "id": "dependent-separation",
   "metadata": {
    "papermill": {
     "duration": 0.067532,
     "end_time": "2021-06-08T10:14:39.383684",
     "exception": false,
     "start_time": "2021-06-08T10:14:39.316152",
     "status": "completed"
    },
    "tags": []
   },
   "source": [
    "**NOW WE CAN DO SOME MORE FEATURE ENGINEERING AND GET SOME NEW FEATURES AND DROP SOME USELESS OR LESS RELEVANT FEATURES.**"
   ]
  },
  {
   "cell_type": "markdown",
   "id": "precious-information",
   "metadata": {
    "papermill": {
     "duration": 0.067939,
     "end_time": "2021-06-08T10:14:39.520098",
     "exception": false,
     "start_time": "2021-06-08T10:14:39.452159",
     "status": "completed"
    },
    "tags": []
   },
   "source": [
    "### Encoding Categorical features with dummy encoding"
   ]
  },
  {
   "cell_type": "code",
   "execution_count": 22,
   "id": "likely-confusion",
   "metadata": {
    "execution": {
     "iopub.execute_input": "2021-06-08T10:14:39.660996Z",
     "iopub.status.busy": "2021-06-08T10:14:39.660211Z",
     "iopub.status.idle": "2021-06-08T10:14:39.675401Z",
     "shell.execute_reply": "2021-06-08T10:14:39.675959Z",
     "shell.execute_reply.started": "2021-06-08T10:10:30.328514Z"
    },
    "papermill": {
     "duration": 0.088358,
     "end_time": "2021-06-08T10:14:39.676243",
     "exception": false,
     "start_time": "2021-06-08T10:14:39.587885",
     "status": "completed"
    },
    "tags": []
   },
   "outputs": [],
   "source": [
    "dummy_train = pd.get_dummies(df_train[['season','weather','Year']],drop_first=True)\n",
    "df_train = pd.concat([df_train,dummy_train],axis=1)"
   ]
  },
  {
   "cell_type": "code",
   "execution_count": 23,
   "id": "fleet-chicago",
   "metadata": {
    "execution": {
     "iopub.execute_input": "2021-06-08T10:14:39.836037Z",
     "iopub.status.busy": "2021-06-08T10:14:39.835033Z",
     "iopub.status.idle": "2021-06-08T10:14:39.843220Z",
     "shell.execute_reply": "2021-06-08T10:14:39.843793Z",
     "shell.execute_reply.started": "2021-06-08T10:10:30.350651Z"
    },
    "papermill": {
     "duration": 0.098324,
     "end_time": "2021-06-08T10:14:39.844017",
     "exception": false,
     "start_time": "2021-06-08T10:14:39.745693",
     "status": "completed"
    },
    "tags": []
   },
   "outputs": [],
   "source": [
    "# now drop unneccesary columns.\n",
    "df_train.drop(['season','weather','datetime','atemp','casual','registered','Year'],inplace=True,axis=1)"
   ]
  },
  {
   "cell_type": "code",
   "execution_count": 24,
   "id": "uniform-trailer",
   "metadata": {
    "execution": {
     "iopub.execute_input": "2021-06-08T10:14:39.996062Z",
     "iopub.status.busy": "2021-06-08T10:14:39.995370Z",
     "iopub.status.idle": "2021-06-08T10:14:40.001794Z",
     "shell.execute_reply": "2021-06-08T10:14:40.001062Z",
     "shell.execute_reply.started": "2021-06-08T10:10:30.361315Z"
    },
    "papermill": {
     "duration": 0.078811,
     "end_time": "2021-06-08T10:14:40.001969",
     "exception": false,
     "start_time": "2021-06-08T10:14:39.923158",
     "status": "completed"
    },
    "tags": []
   },
   "outputs": [
    {
     "data": {
      "text/plain": [
       "(10586, 17)"
      ]
     },
     "execution_count": 24,
     "metadata": {},
     "output_type": "execute_result"
    }
   ],
   "source": [
    "df_train.shape"
   ]
  },
  {
   "cell_type": "markdown",
   "id": "steady-medicaid",
   "metadata": {
    "papermill": {
     "duration": 0.069936,
     "end_time": "2021-06-08T10:14:40.144355",
     "exception": false,
     "start_time": "2021-06-08T10:14:40.074419",
     "status": "completed"
    },
    "tags": []
   },
   "source": [
    "## **Feature Engineering and Data Cleaning in Test Data**"
   ]
  },
  {
   "cell_type": "code",
   "execution_count": 25,
   "id": "central-failure",
   "metadata": {
    "execution": {
     "iopub.execute_input": "2021-06-08T10:14:40.295952Z",
     "iopub.status.busy": "2021-06-08T10:14:40.295163Z",
     "iopub.status.idle": "2021-06-08T10:14:40.322945Z",
     "shell.execute_reply": "2021-06-08T10:14:40.323724Z",
     "shell.execute_reply.started": "2021-06-08T10:10:30.373588Z"
    },
    "papermill": {
     "duration": 0.108889,
     "end_time": "2021-06-08T10:14:40.324001",
     "exception": false,
     "start_time": "2021-06-08T10:14:40.215112",
     "status": "completed"
    },
    "tags": []
   },
   "outputs": [
    {
     "name": "stdout",
     "output_type": "stream",
     "text": [
      "(6493, 16)\n"
     ]
    }
   ],
   "source": [
    "# Create new columns \"Year\",\"Day,\"hour\",\"weekDay\",\"month\" from \"datetime\" column.\n",
    "dates = df_test['datetime']\n",
    "df_test['Year'] = df_test.datetime.dt.year\n",
    "df_test['Month'] = df_test.datetime.dt.month\n",
    "df_test['Day'] = df_test.datetime.dt.day\n",
    "df_test['Hour'] = df_test.datetime.dt.hour\n",
    "df_test['Wday'] = df_test.datetime.dt.weekday \n",
    "\n",
    "# Coerce the datatype of \"season\" and 'weather' to category.\n",
    "df_test[\"season\"] = df_test.season.map({1: \"Spring\", 2 : \"Summer\", 3 : \"Fall\", 4 :\"Winter\" })\n",
    "df_test[\"weather\"] = df_test.weather.map({1: \" Clear + Few clouds + Partly cloudy + Partly cloudy\",\\\n",
    "                                        2 : \" Mist + Cloudy, Mist + Broken clouds, Mist + Few clouds, Mist \", \\\n",
    "                                        3 : \" Light Snow, Light Rain + Thunderstorm + Scattered clouds, Light Rain + Scattered clouds\", \\\n",
    "                                        4 :\" Heavy Rain + Ice Pallets + Thunderstorm + Mist, Snow + Fog \" }) \n",
    "\n",
    "categoricalVariableListTest = [\"season\",\"weather\",'Year']\n",
    "for var in categoricalVariableListTest:\n",
    "    df_test[var] = df_test[var].astype(\"category\")\n",
    "\n",
    "dummy_test = pd.get_dummies(df_test[['season','weather','Year']],drop_first=True)\n",
    "df_test = pd.concat([df_test,dummy_test],axis=1) \n",
    "\n",
    "# now drop unneccesary columns.\n",
    "df_test.drop(['season','weather','datetime','atemp','Year'],inplace=True,axis=1)\n",
    "print(df_test.shape)"
   ]
  },
  {
   "cell_type": "code",
   "execution_count": 26,
   "id": "aware-bedroom",
   "metadata": {
    "execution": {
     "iopub.execute_input": "2021-06-08T10:14:40.468582Z",
     "iopub.status.busy": "2021-06-08T10:14:40.467852Z",
     "iopub.status.idle": "2021-06-08T10:14:40.471416Z",
     "shell.execute_reply": "2021-06-08T10:14:40.471939Z",
     "shell.execute_reply.started": "2021-06-08T10:10:30.415821Z"
    },
    "papermill": {
     "duration": 0.077202,
     "end_time": "2021-06-08T10:14:40.472148",
     "exception": false,
     "start_time": "2021-06-08T10:14:40.394946",
     "status": "completed"
    },
    "tags": []
   },
   "outputs": [],
   "source": [
    "num_features = ['temp','humidity','windspeed']"
   ]
  },
  {
   "cell_type": "markdown",
   "id": "freelance-anxiety",
   "metadata": {
    "papermill": {
     "duration": 0.07046,
     "end_time": "2021-06-08T10:14:40.612265",
     "exception": false,
     "start_time": "2021-06-08T10:14:40.541805",
     "status": "completed"
    },
    "tags": []
   },
   "source": [
    "## **Model Building**"
   ]
  },
  {
   "cell_type": "markdown",
   "id": "provincial-newton",
   "metadata": {
    "papermill": {
     "duration": 0.069501,
     "end_time": "2021-06-08T10:14:40.753780",
     "exception": false,
     "start_time": "2021-06-08T10:14:40.684279",
     "status": "completed"
    },
    "tags": []
   },
   "source": [
    "#### Separate Dependent and Independent variables From Train Data"
   ]
  },
  {
   "cell_type": "code",
   "execution_count": 27,
   "id": "dying-singles",
   "metadata": {
    "execution": {
     "iopub.execute_input": "2021-06-08T10:14:40.898411Z",
     "iopub.status.busy": "2021-06-08T10:14:40.897694Z",
     "iopub.status.idle": "2021-06-08T10:14:40.905461Z",
     "shell.execute_reply": "2021-06-08T10:14:40.904733Z",
     "shell.execute_reply.started": "2021-06-08T10:10:30.420663Z"
    },
    "papermill": {
     "duration": 0.082117,
     "end_time": "2021-06-08T10:14:40.905637",
     "exception": false,
     "start_time": "2021-06-08T10:14:40.823520",
     "status": "completed"
    },
    "tags": []
   },
   "outputs": [],
   "source": [
    "X = df_train.drop('count',axis=1)\n",
    "y = df_train['count']"
   ]
  },
  {
   "cell_type": "markdown",
   "id": "intimate-engineer",
   "metadata": {
    "papermill": {
     "duration": 0.071362,
     "end_time": "2021-06-08T10:14:41.047943",
     "exception": false,
     "start_time": "2021-06-08T10:14:40.976581",
     "status": "completed"
    },
    "tags": []
   },
   "source": [
    "### Data Scaling "
   ]
  },
  {
   "cell_type": "code",
   "execution_count": 28,
   "id": "running-technology",
   "metadata": {
    "execution": {
     "iopub.execute_input": "2021-06-08T10:14:41.202023Z",
     "iopub.status.busy": "2021-06-08T10:14:41.200847Z",
     "iopub.status.idle": "2021-06-08T10:14:41.230095Z",
     "shell.execute_reply": "2021-06-08T10:14:41.229517Z",
     "shell.execute_reply.started": "2021-06-08T10:10:30.434728Z"
    },
    "papermill": {
     "duration": 0.110788,
     "end_time": "2021-06-08T10:14:41.230279",
     "exception": false,
     "start_time": "2021-06-08T10:14:41.119491",
     "status": "completed"
    },
    "tags": []
   },
   "outputs": [],
   "source": [
    "sc = MinMaxScaler()\n",
    "\n",
    "X[num_features] = sc.fit_transform(X[num_features])\n",
    "df_test[num_features] = sc.transform(df_test[num_features])"
   ]
  },
  {
   "cell_type": "markdown",
   "id": "billion-consultation",
   "metadata": {
    "papermill": {
     "duration": 0.06898,
     "end_time": "2021-06-08T10:14:41.368437",
     "exception": false,
     "start_time": "2021-06-08T10:14:41.299457",
     "status": "completed"
    },
    "tags": []
   },
   "source": [
    "#### Lets split the data into train and test set "
   ]
  },
  {
   "cell_type": "code",
   "execution_count": 29,
   "id": "listed-mercury",
   "metadata": {
    "execution": {
     "iopub.execute_input": "2021-06-08T10:14:41.515862Z",
     "iopub.status.busy": "2021-06-08T10:14:41.514528Z",
     "iopub.status.idle": "2021-06-08T10:14:41.523560Z",
     "shell.execute_reply": "2021-06-08T10:14:41.522795Z",
     "shell.execute_reply.started": "2021-06-08T10:10:30.468719Z"
    },
    "papermill": {
     "duration": 0.085237,
     "end_time": "2021-06-08T10:14:41.523737",
     "exception": false,
     "start_time": "2021-06-08T10:14:41.438500",
     "status": "completed"
    },
    "tags": []
   },
   "outputs": [],
   "source": [
    "X_train,X_test,y_train,y_test = train_test_split(X,y,test_size = 0.2,random_state = 42)"
   ]
  },
  {
   "cell_type": "markdown",
   "id": "improving-electric",
   "metadata": {
    "papermill": {
     "duration": 0.070655,
     "end_time": "2021-06-08T10:14:41.666473",
     "exception": false,
     "start_time": "2021-06-08T10:14:41.595818",
     "status": "completed"
    },
    "tags": []
   },
   "source": [
    "### **Random Forest**"
   ]
  },
  {
   "cell_type": "code",
   "execution_count": 30,
   "id": "supreme-ridge",
   "metadata": {
    "execution": {
     "iopub.execute_input": "2021-06-08T10:14:41.810455Z",
     "iopub.status.busy": "2021-06-08T10:14:41.809784Z",
     "iopub.status.idle": "2021-06-08T10:14:44.974545Z",
     "shell.execute_reply": "2021-06-08T10:14:44.975045Z",
     "shell.execute_reply.started": "2021-06-08T10:10:30.476924Z"
    },
    "papermill": {
     "duration": 3.237874,
     "end_time": "2021-06-08T10:14:44.975285",
     "exception": false,
     "start_time": "2021-06-08T10:14:41.737411",
     "status": "completed"
    },
    "tags": []
   },
   "outputs": [
    {
     "data": {
      "text/plain": [
       "RandomForestRegressor(random_state=42)"
      ]
     },
     "execution_count": 30,
     "metadata": {},
     "output_type": "execute_result"
    }
   ],
   "source": [
    "# model fitting\n",
    "model_rf = RandomForestRegressor(random_state=42)\n",
    "model_rf.fit( X_train , y_train )"
   ]
  },
  {
   "cell_type": "code",
   "execution_count": 31,
   "id": "intended-passport",
   "metadata": {
    "execution": {
     "iopub.execute_input": "2021-06-08T10:14:45.128510Z",
     "iopub.status.busy": "2021-06-08T10:14:45.127386Z",
     "iopub.status.idle": "2021-06-08T10:14:45.216811Z",
     "shell.execute_reply": "2021-06-08T10:14:45.217320Z",
     "shell.execute_reply.started": "2021-06-08T10:10:33.648864Z"
    },
    "papermill": {
     "duration": 0.17167,
     "end_time": "2021-06-08T10:14:45.217541",
     "exception": false,
     "start_time": "2021-06-08T10:14:45.045871",
     "status": "completed"
    },
    "tags": []
   },
   "outputs": [],
   "source": [
    "# Prediction\n",
    "y_pred = model_rf.predict(X_test)"
   ]
  },
  {
   "cell_type": "code",
   "execution_count": 32,
   "id": "collaborative-shanghai",
   "metadata": {
    "execution": {
     "iopub.execute_input": "2021-06-08T10:14:45.364944Z",
     "iopub.status.busy": "2021-06-08T10:14:45.364252Z",
     "iopub.status.idle": "2021-06-08T10:14:45.370155Z",
     "shell.execute_reply": "2021-06-08T10:14:45.369622Z",
     "shell.execute_reply.started": "2021-06-08T10:10:33.731061Z"
    },
    "papermill": {
     "duration": 0.081645,
     "end_time": "2021-06-08T10:14:45.370333",
     "exception": false,
     "start_time": "2021-06-08T10:14:45.288688",
     "status": "completed"
    },
    "tags": []
   },
   "outputs": [
    {
     "name": "stdout",
     "output_type": "stream",
     "text": [
      "0.32091895219688027\n"
     ]
    }
   ],
   "source": [
    "# checking the rmsle\n",
    "print(np.sqrt(mean_squared_log_error(y_test,y_pred)))"
   ]
  },
  {
   "cell_type": "code",
   "execution_count": 33,
   "id": "sharp-stone",
   "metadata": {
    "execution": {
     "iopub.execute_input": "2021-06-08T10:14:45.516846Z",
     "iopub.status.busy": "2021-06-08T10:14:45.516162Z",
     "iopub.status.idle": "2021-06-08T10:14:45.559206Z",
     "shell.execute_reply": "2021-06-08T10:14:45.558193Z",
     "shell.execute_reply.started": "2021-06-08T10:10:33.738562Z"
    },
    "papermill": {
     "duration": 0.118804,
     "end_time": "2021-06-08T10:14:45.559469",
     "exception": false,
     "start_time": "2021-06-08T10:14:45.440665",
     "status": "completed"
    },
    "tags": []
   },
   "outputs": [
    {
     "name": "stdout",
     "output_type": "stream",
     "text": [
      "holiday = 0.0017203874234535275\n",
      "workingday = 0.04009455348582351\n",
      "temp = 0.10202668253719649\n",
      "humidity = 0.03708094987096231\n",
      "windspeed = 0.010586899178934113\n",
      "Month = 0.04656021167298726\n",
      "Day = 0.013672945872599334\n",
      "Hour = 0.6198296166347168\n",
      "Wday = 0.03304233771593283\n",
      "season_Spring = 0.010719784292736937\n",
      "season_Summer = 0.001465853571905111\n",
      "season_Winter = 0.0013557279049697356\n",
      "weather_ Heavy Rain + Ice Pallets + Thunderstorm + Mist, Snow + Fog  = 3.747074354027662e-06\n",
      "weather_ Light Snow, Light Rain + Thunderstorm + Scattered clouds, Light Rain + Scattered clouds = 0.014860984604197831\n",
      "weather_ Mist + Cloudy, Mist + Broken clouds, Mist + Few clouds, Mist  = 0.0018978481972500426\n",
      "Year_2012 = 0.06508146996198022\n"
     ]
    }
   ],
   "source": [
    "##########################Feature Importance########################\n",
    "for name, importance in zip(X.columns, model_rf.feature_importances_):\n",
    "    print(name, \"=\", importance)"
   ]
  },
  {
   "cell_type": "markdown",
   "id": "driving-bread",
   "metadata": {
    "papermill": {
     "duration": 0.070135,
     "end_time": "2021-06-08T10:14:45.702159",
     "exception": false,
     "start_time": "2021-06-08T10:14:45.632024",
     "status": "completed"
    },
    "tags": []
   },
   "source": [
    "### Lets try Different Models"
   ]
  },
  {
   "cell_type": "markdown",
   "id": "attempted-inventory",
   "metadata": {
    "papermill": {
     "duration": 0.071188,
     "end_time": "2021-06-08T10:14:45.848604",
     "exception": false,
     "start_time": "2021-06-08T10:14:45.777416",
     "status": "completed"
    },
    "tags": []
   },
   "source": [
    "### **AdaBoost**"
   ]
  },
  {
   "cell_type": "code",
   "execution_count": 34,
   "id": "intermediate-winter",
   "metadata": {
    "execution": {
     "iopub.execute_input": "2021-06-08T10:14:45.999618Z",
     "iopub.status.busy": "2021-06-08T10:14:45.998932Z",
     "iopub.status.idle": "2021-06-08T10:14:46.392658Z",
     "shell.execute_reply": "2021-06-08T10:14:46.392034Z",
     "shell.execute_reply.started": "2021-06-08T10:10:33.785942Z"
    },
    "papermill": {
     "duration": 0.472181,
     "end_time": "2021-06-08T10:14:46.392839",
     "exception": false,
     "start_time": "2021-06-08T10:14:45.920658",
     "status": "completed"
    },
    "tags": []
   },
   "outputs": [
    {
     "name": "stdout",
     "output_type": "stream",
     "text": [
      "0.9398321121705452\n"
     ]
    }
   ],
   "source": [
    "model_abr = AdaBoostRegressor(random_state=42)\n",
    "model_abr.fit( X_train , y_train )\n",
    "y_pred_abr = model_abr.predict(X_test)\n",
    "print(np.sqrt(mean_squared_log_error(y_test,y_pred_abr)))"
   ]
  },
  {
   "cell_type": "markdown",
   "id": "careful-stretch",
   "metadata": {
    "papermill": {
     "duration": 0.071378,
     "end_time": "2021-06-08T10:14:46.536053",
     "exception": false,
     "start_time": "2021-06-08T10:14:46.464675",
     "status": "completed"
    },
    "tags": []
   },
   "source": [
    "### **KNN**"
   ]
  },
  {
   "cell_type": "code",
   "execution_count": 35,
   "id": "protective-silly",
   "metadata": {
    "execution": {
     "iopub.execute_input": "2021-06-08T10:14:46.690480Z",
     "iopub.status.busy": "2021-06-08T10:14:46.689164Z",
     "iopub.status.idle": "2021-06-08T10:14:47.119499Z",
     "shell.execute_reply": "2021-06-08T10:14:47.118348Z",
     "shell.execute_reply.started": "2021-06-08T10:10:34.138065Z"
    },
    "papermill": {
     "duration": 0.510423,
     "end_time": "2021-06-08T10:14:47.119680",
     "exception": false,
     "start_time": "2021-06-08T10:14:46.609257",
     "status": "completed"
    },
    "tags": []
   },
   "outputs": [
    {
     "name": "stdout",
     "output_type": "stream",
     "text": [
      "0.4595187372772124\n"
     ]
    }
   ],
   "source": [
    "model_knn = KNeighborsRegressor()\n",
    "model_knn.fit( X_train , y_train )\n",
    "y_pred_knn = model_knn.predict(X_test)\n",
    "print(np.sqrt(mean_squared_log_error(y_test,y_pred_knn)))"
   ]
  },
  {
   "cell_type": "markdown",
   "id": "cooperative-taiwan",
   "metadata": {
    "papermill": {
     "duration": 0.072841,
     "end_time": "2021-06-08T10:14:47.266097",
     "exception": false,
     "start_time": "2021-06-08T10:14:47.193256",
     "status": "completed"
    },
    "tags": []
   },
   "source": [
    "**Note That there are other modeling algos like linear regression ,ridge regression,lasso regression,Xgboost etc but the problem is that most of the models are predicting negative values for the target which is not possible thats why I am just limited to above models and try to tune the best model.**"
   ]
  },
  {
   "cell_type": "markdown",
   "id": "excellent-retreat",
   "metadata": {
    "papermill": {
     "duration": 0.071629,
     "end_time": "2021-06-08T10:14:47.409983",
     "exception": false,
     "start_time": "2021-06-08T10:14:47.338354",
     "status": "completed"
    },
    "tags": []
   },
   "source": [
    "**RANDOM FORETS REGRESSOR GIVES THE LEAST RMSLE. HENCE WE USE IT TO MAKE PREDICTIONS.**<br>"
   ]
  },
  {
   "cell_type": "markdown",
   "id": "powerful-terrain",
   "metadata": {
    "papermill": {
     "duration": 0.072928,
     "end_time": "2021-06-08T10:14:47.556155",
     "exception": false,
     "start_time": "2021-06-08T10:14:47.483227",
     "status": "completed"
    },
    "tags": []
   },
   "source": [
    "### **Lets Tune a bit More for Random Forest Regressor**"
   ]
  },
  {
   "cell_type": "code",
   "execution_count": 36,
   "id": "induced-victoria",
   "metadata": {
    "execution": {
     "iopub.execute_input": "2021-06-08T10:14:47.711654Z",
     "iopub.status.busy": "2021-06-08T10:14:47.710892Z",
     "iopub.status.idle": "2021-06-08T10:17:04.303768Z",
     "shell.execute_reply": "2021-06-08T10:17:04.304295Z",
     "shell.execute_reply.started": "2021-06-08T10:10:34.532811Z"
    },
    "papermill": {
     "duration": 136.674258,
     "end_time": "2021-06-08T10:17:04.304503",
     "exception": false,
     "start_time": "2021-06-08T10:14:47.630245",
     "status": "completed"
    },
    "tags": []
   },
   "outputs": [
    {
     "data": {
      "text/plain": [
       "GridSearchCV(cv=KFold(n_splits=5, random_state=42, shuffle=True),\n",
       "             estimator=RandomForestRegressor(random_state=42),\n",
       "             param_grid={'max_features': ['auto', 'sqrt', 'log2'],\n",
       "                         'n_estimators': [200, 300, 400], 'n_jobs': [-1]},\n",
       "             scoring='neg_mean_squared_log_error')"
      ]
     },
     "execution_count": 36,
     "metadata": {},
     "output_type": "execute_result"
    }
   ],
   "source": [
    "# Hyperparameter tuning using GridSearchCV\n",
    "from sklearn.model_selection import KFold\n",
    "kfold = KFold(n_splits=5, random_state=42,shuffle=True)\n",
    "\n",
    "params_dict = {'n_estimators':[200,300,400],'n_jobs':[-1],'max_features':[\"auto\",'sqrt','log2']}\n",
    "reg_rf = GridSearchCV(estimator= model_rf,param_grid = params_dict,scoring = 'neg_mean_squared_log_error',cv = kfold)\n",
    "reg_rf.fit(X,y)"
   ]
  },
  {
   "cell_type": "code",
   "execution_count": 37,
   "id": "electoral-disease",
   "metadata": {
    "execution": {
     "iopub.execute_input": "2021-06-08T10:17:04.455595Z",
     "iopub.status.busy": "2021-06-08T10:17:04.454858Z",
     "iopub.status.idle": "2021-06-08T10:17:04.459410Z",
     "shell.execute_reply": "2021-06-08T10:17:04.459872Z",
     "shell.execute_reply.started": "2021-06-08T10:12:43.506294Z"
    },
    "papermill": {
     "duration": 0.084324,
     "end_time": "2021-06-08T10:17:04.460056",
     "exception": false,
     "start_time": "2021-06-08T10:17:04.375732",
     "status": "completed"
    },
    "tags": []
   },
   "outputs": [
    {
     "data": {
      "text/plain": [
       "{'max_features': 'auto', 'n_estimators': 400, 'n_jobs': -1}"
      ]
     },
     "execution_count": 37,
     "metadata": {},
     "output_type": "execute_result"
    }
   ],
   "source": [
    "# checking the best parameter\n",
    "reg_rf.best_params_"
   ]
  },
  {
   "cell_type": "code",
   "execution_count": 38,
   "id": "proof-updating",
   "metadata": {
    "execution": {
     "iopub.execute_input": "2021-06-08T10:17:04.624648Z",
     "iopub.status.busy": "2021-06-08T10:17:04.623728Z",
     "iopub.status.idle": "2021-06-08T10:17:10.939930Z",
     "shell.execute_reply": "2021-06-08T10:17:10.939385Z",
     "shell.execute_reply.started": "2021-06-08T10:12:43.512307Z"
    },
    "papermill": {
     "duration": 6.408054,
     "end_time": "2021-06-08T10:17:10.940076",
     "exception": false,
     "start_time": "2021-06-08T10:17:04.532022",
     "status": "completed"
    },
    "tags": []
   },
   "outputs": [
    {
     "data": {
      "text/plain": [
       "RandomForestRegressor(n_estimators=400, n_jobs=-1, random_state=42)"
      ]
     },
     "execution_count": 38,
     "metadata": {},
     "output_type": "execute_result"
    }
   ],
   "source": [
    "# Final Model \n",
    "final_rf = RandomForestRegressor(max_features = 'auto', n_estimators= 400, n_jobs= -1,random_state=42)\n",
    "final_rf.fit(X,y)"
   ]
  },
  {
   "cell_type": "markdown",
   "id": "dried-license",
   "metadata": {
    "papermill": {
     "duration": 0.071354,
     "end_time": "2021-06-08T10:17:11.084274",
     "exception": false,
     "start_time": "2021-06-08T10:17:11.012920",
     "status": "completed"
    },
    "tags": []
   },
   "source": [
    "### **Model Prediction**"
   ]
  },
  {
   "cell_type": "code",
   "execution_count": 39,
   "id": "known-expansion",
   "metadata": {
    "execution": {
     "iopub.execute_input": "2021-06-08T10:17:11.235868Z",
     "iopub.status.busy": "2021-06-08T10:17:11.235164Z",
     "iopub.status.idle": "2021-06-08T10:17:11.545609Z",
     "shell.execute_reply": "2021-06-08T10:17:11.544843Z",
     "shell.execute_reply.started": "2021-06-08T10:12:49.619672Z"
    },
    "papermill": {
     "duration": 0.389488,
     "end_time": "2021-06-08T10:17:11.545767",
     "exception": false,
     "start_time": "2021-06-08T10:17:11.156279",
     "status": "completed"
    },
    "tags": []
   },
   "outputs": [],
   "source": [
    "y_pred_final = final_rf.predict(df_test)"
   ]
  }
 ],
 "metadata": {
  "kernelspec": {
   "display_name": "Python 3",
   "language": "python",
   "name": "python3"
  },
  "language_info": {
   "codemirror_mode": {
    "name": "ipython",
    "version": 3
   },
   "file_extension": ".py",
   "mimetype": "text/x-python",
   "name": "python",
   "nbconvert_exporter": "python",
   "pygments_lexer": "ipython3",
   "version": "3.7.7"
  },
  "papermill": {
   "default_parameters": {},
   "duration": 185.028092,
   "end_time": "2021-06-08T10:17:13.940896",
   "environment_variables": {},
   "exception": null,
   "input_path": "__notebook__.ipynb",
   "output_path": "__notebook__.ipynb",
   "parameters": {},
   "start_time": "2021-06-08T10:14:08.912804",
   "version": "2.3.3"
  }
 },
 "nbformat": 4,
 "nbformat_minor": 5
}
